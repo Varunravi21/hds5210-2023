{
  "cells": [
    {
      "cell_type": "markdown",
      "metadata": {
        "id": "0FRZi8HSzbpd"
      },
      "source": [
        "# Week 13 Extra Credit - How will ChatGPT do on your final project idea?\n",
        "\n",
        "This extra credit assignment is entirely optional.  You do not need to do it.\n",
        "\n",
        "If you would like the opportunity to earn up to 5 extra credit points, complete this assignment and submit it via GitHub as normal before Monday, November 27 at 11:59 PM CST.  No late submissions will be accepted.  The file must be saved to your week13 folder in GitHub."
      ]
    },
    {
      "cell_type": "markdown",
      "metadata": {
        "id": "8uedyOC0zbpe"
      },
      "source": [
        "## Part 1: Have a conversation with ChatGPT\n",
        "\n",
        "I want you to have a conversation with ChatGPT about your final project idea.  Find out what it thinks about your idea and if it has any data sources (URLs for specific sites) that could be helpful.  Below, either include copy/paste the chat history from your conversation or include a link to the shared chat.  (ChatGPT has an [option to share a link to a specific conversation](https://help.openai.com/en/articles/7925741-chatgpt-shared-links-faq).  It's the up-arrow icon in the upper-right corner of your chat window.)\n",
        "\n",
        "Take this conversationw with ChatGPT as far as you want, but at least ask three or four follow-up questions to refine the information you're getting back.\n",
        "\n",
        "If it starts giving you links to information, don't assume they're going to work. Remember that ChatGPT isn't perfect. So, follow the links and make sure there's information there that matches what ChatGPT says you will find."
      ]
    },
    {
      "cell_type": "markdown",
      "metadata": {
        "id": "RJneCrJdzbpf"
      },
      "source": [
        "**RESPONSE**\n",
        "\n",
        "https://chat.openai.com/share/033eafac-6719-4db3-aa2f-625063219755"
      ]
    },
    {
      "cell_type": "markdown",
      "metadata": {
        "id": "1NAoFgFtzbpf"
      },
      "source": [
        "### Part 2: Your reflection\n",
        "\n",
        "Below, tell me what you think ChatGPT did well or not well in your conversation.  Was it good at finding data that you needed?  Was it good at finding actual links that worked?  Did its responses make sense to you?  What did it do well / not well?\n",
        "\n",
        "Your response below should be several sentences.  If you don't have enough feedback, expand your conversation with ChatGPT.  Ask it refine your project idea or start writing code for you.  See what it can do."
      ]
    },
    {
      "cell_type": "markdown",
      "metadata": {
        "id": "qAPTKMumzbpf"
      },
      "source": [
        "**RESPONSE**\n",
        "\n",
        "When I asked ChatGPT questions regarding my final project, some of its suggestions were good while others did not seem entirely relevant.\n",
        "\n",
        "Specifically, when I asked for opinion  about my project topics, ChatGPT provided some suggestions but they were not well-suited to my needs. However, it did recommend a few useful steps to include in the project methodology.\n",
        "\n",
        "Regarding reference datasets, ChatGPT suggested data sources I had already learned about in my HDS and ORES courses, so this information was not more informative than what I already knew. However, when I asked about data aggregation, correlation, and merging, ChatGPT provided some useful information.\n",
        "\n",
        "Overall, I am not fully satisfied with ChatGPT's suggestions, as they do not align with how I envision planning and executing my final project."
      ]
    },
    {
      "cell_type": "markdown",
      "metadata": {
        "id": "AgDPBJeEzbpf"
      },
      "source": [
        "### Submitting\n",
        "\n",
        "Submit this as normal to GitHub with the name `wee13/week13_extra_credit.ipynb`"
      ]
    },
    {
      "cell_type": "markdown",
      "metadata": {
        "id": "h7qVhDVlzbpf"
      },
      "source": []
    }
  ],
  "metadata": {
    "language_info": {
      "name": "python"
    },
    "colab": {
      "provenance": []
    }
  },
  "nbformat": 4,
  "nbformat_minor": 0
}