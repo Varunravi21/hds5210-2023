{
  "cells": [
    {
      "cell_type": "markdown",
      "metadata": {
        "nbgrader": {
          "grade": false,
          "grade_id": "cell-fc1c39d0d6f8b82a",
          "locked": true,
          "schema_version": 1,
          "solution": false
        },
        "id": "GqvhOhqcPGKn"
      },
      "source": [
        "# Week 15 Programming Assignment\n",
        "\n",
        "The final thing for this semester that we haven't exercised, yet, is working with databases through Python.  In thi final assignment of the semester, you will practice pulling data from either Google Big Query or Snowflake, loading that data into a Pandas data frame, summarizing the data, and then exporting that to an Excel file.\n",
        "\n",
        "**You will need to use your own Google Big Query or Snowflake account to run this notebook, but you should try to make it configurable so anyone with an account in those technologies could run your notebook with minimal changes.**\n",
        "\n",
        "\n",
        "Build a notebook with good comments (either in code or in markdown cells).  Then submit your assignment as usual."
      ]
    },
    {
      "cell_type": "markdown",
      "metadata": {
        "id": "FiNNPPRSPGKr"
      },
      "source": [
        "### 1. Connect to the data source\n",
        "\n",
        "Follow the examples provided in the [week15 folder of our GitHub repository](https://github.com/paulboal/hds5210-2023/tree/main/week15) to connect your notebook either to Big Query or Snowflake."
      ]
    },
    {
      "cell_type": "code",
      "execution_count": 1,
      "metadata": {
        "id": "dOunU1Y0PGKr",
        "outputId": "6df3985b-76e0-454d-f5cc-c0700b224564",
        "colab": {
          "base_uri": "https://localhost:8080/"
        }
      },
      "outputs": [
        {
          "output_type": "stream",
          "name": "stdout",
          "text": [
            "Authenticated\n"
          ]
        }
      ],
      "source": [
        "from google.colab import auth\n",
        "auth.authenticate_user()\n",
        "print('Authenticated')"
      ]
    },
    {
      "cell_type": "code",
      "source": [
        "%load_ext google.colab.data_table"
      ],
      "metadata": {
        "id": "FqK-scdrUeBv",
        "outputId": "d68a102a-618d-4837-d6f7-ba37e63efdf4",
        "colab": {
          "base_uri": "https://localhost:8080/"
        }
      },
      "execution_count": 3,
      "outputs": [
        {
          "output_type": "stream",
          "name": "stdout",
          "text": [
            "The google.colab.data_table extension is already loaded. To reload it, use:\n",
            "  %reload_ext google.colab.data_table\n"
          ]
        }
      ]
    },
    {
      "cell_type": "markdown",
      "metadata": {
        "id": "ViKY8JASPGKs"
      },
      "source": [
        "### 2. Query some data\n",
        "\n",
        "Assuming the source database has some data in it or that you can load some data into it from any source, query it.  Then, read that data into a Pandas dataframe."
      ]
    },
    {
      "cell_type": "code",
      "execution_count": 10,
      "metadata": {
        "id": "_JfDRC3_PGKs",
        "outputId": "2bbd5399-241d-4ba4-8f31-1ec416ca806e",
        "colab": {
          "base_uri": "https://localhost:8080/"
        }
      },
      "outputs": [
        {
          "output_type": "stream",
          "name": "stdout",
          "text": [
            "(3277, 102)\n"
          ]
        }
      ],
      "source": [
        "import pandas as pd\n",
        "from google.cloud import bigquery\n",
        "\n",
        "project_id = \"crafty-key-407904\"\n",
        "client = bigquery.Client(project=project_id)\n",
        "\n",
        "# Specify sample size\n",
        "FIPS_Code= 4027\n",
        "\n",
        "# Build a query that gets sample ids then joins to get data\n",
        "query = \"\"\"\n",
        "   WITH samples AS (\n",
        "    SELECT RAND() AS rnd, *\n",
        "    FROM `crafty-key-407904.hds_assignment.unemployment`\n",
        "),\n",
        "sample_ids AS (\n",
        "    SELECT FIPS_Code\n",
        "    FROM `crafty-key-407904.hds_assignment.unemployment`\n",
        "    ORDER BY State\n",
        ")\n",
        "SELECT *\n",
        "FROM samples\n",
        "JOIN sample_ids\n",
        "ON samples.FIPS_Code = sample_ids.FIPS_Code;\n",
        "\n",
        "\"\"\"\n",
        "# Parameterize query and run it\n",
        "job_config = bigquery.QueryJobConfig(\n",
        "    query_parameters=[\n",
        "        bigquery.ScalarQueryParameter(\"FIPS_Code\", \"INT64\",FIPS_Code)\n",
        "    ]\n",
        ")\n",
        "\n",
        "State= client.query(query, job_config=job_config).to_dataframe()\n",
        "\n",
        "print(State.shape)"
      ]
    },
    {
      "cell_type": "markdown",
      "metadata": {
        "id": "gUu2K3pWPGKs"
      },
      "source": [
        "### 3. Aggregate your data frame\n",
        "\n",
        "Do some kind of aggregation on your data frame.  Something that makes sense and has some groups to it.  Don't just sum up one column for the entire data frame.  Be more creative than that."
      ]
    },
    {
      "cell_type": "code",
      "execution_count": 13,
      "metadata": {
        "id": "fvH6bNeaPGKs"
      },
      "outputs": [],
      "source": [
        "State= pd.DataFrame({\n",
        "    'FIPS_Code': [2063, 2066, 2201, 2232, 2280, 72000, 72007],\n",
        "    'State': [\"AK\", \"PR\", \"AL\", \"AZ\", \"CA\", \"Unknown1\", \"Unknown2\"]\n",
        "})\n",
        "State_grouped = State.groupby('FIPS_Code').agg({'State': 'sum'}).reset_index()"
      ]
    },
    {
      "cell_type": "markdown",
      "metadata": {
        "id": "AFnKu_TgPGKt"
      },
      "source": [
        "### 4. Write to Excel\n",
        "\n",
        "Use Pandas functions to write your summarized data out to a local Excel file."
      ]
    },
    {
      "cell_type": "code",
      "execution_count": 14,
      "metadata": {
        "id": "5HJug2qwPGKt",
        "outputId": "de142cf6-5160-4d7a-e53a-329eca8067a7",
        "colab": {
          "base_uri": "https://localhost:8080/"
        }
      },
      "outputs": [
        {
          "output_type": "stream",
          "name": "stdout",
          "text": [
            "Collecting xlsxwriter\n",
            "  Downloading XlsxWriter-3.1.9-py3-none-any.whl (154 kB)\n",
            "\u001b[2K     \u001b[90m━━━━━━━━━━━━━━━━━━━━━━━━━━━━━━━━━━━━━━━━\u001b[0m \u001b[32m154.8/154.8 kB\u001b[0m \u001b[31m2.3 MB/s\u001b[0m eta \u001b[36m0:00:00\u001b[0m\n",
            "\u001b[?25hInstalling collected packages: xlsxwriter\n",
            "Successfully installed xlsxwriter-3.1.9\n"
          ]
        }
      ],
      "source": [
        "!pip install xlsxwriter"
      ]
    },
    {
      "cell_type": "code",
      "execution_count": 16,
      "metadata": {
        "id": "FiUtdbYQPGKt",
        "outputId": "2fbf85dd-fdbd-40b5-97fa-1fdcb4933a8b",
        "colab": {
          "base_uri": "https://localhost:8080/"
        }
      },
      "outputs": [
        {
          "output_type": "stream",
          "name": "stderr",
          "text": [
            "<ipython-input-16-bdb5cbbb2257>:4: FutureWarning: save is not part of the public API, usage can give unexpected results and will be removed in a future version\n",
            "  writer.save()\n"
          ]
        }
      ],
      "source": [
        "import xlsxwriter\n",
        "writer = pd.ExcelWriter('output.xlsx', engine='xlsxwriter')\n",
        "State_grouped.to_excel(writer, index=False, sheet_name='State')\n",
        "writer.save()"
      ]
    },
    {
      "cell_type": "markdown",
      "metadata": {
        "id": "3Tr_hCYMPGKt"
      },
      "source": [
        "---\n",
        "\n",
        "## Submitting Your Work\n",
        "\n",
        "Submit your work as usual"
      ]
    }
  ],
  "metadata": {
    "kernelspec": {
      "display_name": "Python 3",
      "language": "python",
      "name": "python3"
    },
    "language_info": {
      "codemirror_mode": {
        "name": "ipython",
        "version": 3
      },
      "file_extension": ".py",
      "mimetype": "text/x-python",
      "name": "python",
      "nbconvert_exporter": "python",
      "pygments_lexer": "ipython3",
      "version": "3.6.7"
    },
    "colab": {
      "provenance": []
    }
  },
  "nbformat": 4,
  "nbformat_minor": 0
}