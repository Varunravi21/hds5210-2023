{
  "cells": [
    {
      "cell_type": "markdown",
      "metadata": {
        "id": "gLkR2Ewz_a6w"
      },
      "source": [
        "# HDS5210-2022 Midterm\n",
        "\n",
        "In the midterm, you're going to use all the programming and data management skills you've developed so far to build a risk calculator that pretends to be integrated with a clinical registry.  You'll compute the PRIEST COVID-19 Clinical Severity Score for a series of patients and, based on their risk of an adverse outcome, query a REST web service to find a hospital to transfer them to. The end result of your work will be a list of instructions on where each patient should be discharged given their risk and various characteristics of the patient.\n",
        "\n",
        "Each step in the midterm will build up to form your complete solution.\n",
        "\n",
        "**Make sure you write good docstrings and doctests along the way!!**\n",
        "\n",
        "**The midterm is due at 11:59 PM CST on Monday, October 23rd.**\n",
        "\n",
        "---"
      ]
    },
    {
      "cell_type": "markdown",
      "metadata": {
        "id": "zLyykJi5_a6y"
      },
      "source": [
        "## Step 1: Calculate PRIEST Clinical Severity Score\n",
        "\n",
        "This scoring algorithm can be found [here on the MDCalc website](https://www.mdcalc.com/priest-covid-19-clinical-severity-score#evidence).  \n",
        "\n",
        "1. You will need to write a function called **priest()** with the following input parameters.  \n",
        " * Sex (Gender assigned at birth)\n",
        " * Age in years\n",
        " * Respiratory rate in breaths per minute\n",
        " * Oxygen saturation as a percent between 0 and 1\n",
        " * Heart rate in beats per minute\n",
        " * Systolic BP in mmHg\n",
        " * Temperature in degrees C\n",
        " * Alertness as a string description\n",
        " * Inspired Oxygen as as string description\n",
        " * Performance Status as a string description\n",
        "2. The function will need to follow the algorithm provided on the MDCalc website to compute a risk percentage that should be returned as a numeric value between 0 and 1.\n",
        "3. Be sure to use docstring documentation and at least three built-in docstring test cases.\n",
        "4. Assume that the input values that are strings could be any combination of upper or lower case. For example: 'male', 'Male', 'MALE', 'MalE' should all be interpretted by your code as male.\n",
        "5. If any of the inputs are invalid (for example a sex value that is not recognizable as male or female) your code should return None.\n",
        "\n",
        "NOTES:\n",
        "1. In the final step there is a table that translates from **PRIEST Score** to **30-day probability of an outcome** but the last two probabilities are shown as ranges (59-88% and >99%).  Our code needs to output a single number, however. For our code, use the following rule:\n",
        " * If PRIEST score is between 17 and 25, the probability you return should be 0.59\n",
        " * If PRIEST score is greater than or equal to 26, the probability you return should be 0.99\n"
      ]
    },
    {
      "cell_type": "code",
      "execution_count": 50,
      "metadata": {
        "id": "bFROrTuU_a6y"
      },
      "outputs": [],
      "source": [
        "def priest(sex, age, respiratRt, OxySatu, heartRt, systolicbp, temper, alertvalue, inOxy, performcSts):\n",
        "    \"\"\"\n",
        "\n",
        "    (String, float, float, float, float, float, float, String, String, String) -> float)\n",
        "\n",
        "    The priest method is the method used to determine the percentage of the risk\n",
        "    of the clinical Severity Score (CRSC) 'PRIEST' COVID-19.\n",
        "\n",
        "    Priest function accepts sex, alertvalue, inspOxy and performcSts in String and remaining all other parameters are in float.\n",
        "\n",
        "    >>> priest(\"MALE\", 18,23,0.93,89,115,35.1,\"confused or not alert\",\"AIR\",\"limited activity, can self-care\")\n",
        "    0.34\n",
        "\n",
        "    >>> priest(\"FEMALE\",65,23,0.96,105,115,40.8,\"ALERT\",\"AIR\",\"limited activity, can self-care\")\n",
        "    0.26\n",
        "\n",
        "    >>> priest('male', 50, 20, 0.90, 87, 95, 35, 'alert', 'supplemental oxygen', 'bed/chair bound, no self-care')\n",
        "    0.59\n",
        "    \"\"\"\n",
        "\n",
        "    PRIESTScore = 0\n",
        "\n",
        "    if sex.upper()==\"MALE\":\n",
        "        PRIESTScore += 1\n",
        "\n",
        "    if age >= 50 and age<=65:\n",
        "        PRIESTScore = PRIESTScore + 2\n",
        "    elif age >= 66 and age<=80:\n",
        "        PRIESTScore = PRIESTScore + 3\n",
        "    elif age > 80:\n",
        "        PRIESTScore = PRIESTScore + 4\n",
        "\n",
        "    if respiratRt > 24:\n",
        "        PRIESTScore = PRIESTScore +  3\n",
        "    elif respiratRt >= 21 and respiratRt <= 24:\n",
        "        PRIESTScore = PRIESTScore +  2\n",
        "    elif respiratRt >= 9 and respiratRt <= 11:\n",
        "        PRIESTScore = PRIESTScore +  1\n",
        "    elif respiratRt < 9:\n",
        "        PRIESTScore = PRIESTScore +  3\n",
        "\n",
        "    if OxySatu < 0.92:\n",
        "        PRIESTScore = PRIESTScore +  3\n",
        "    elif OxySatu >= 0.94 and OxySatu <= 0.95:\n",
        "        PRIESTScore = PRIESTScore +  1\n",
        "    elif OxySatu >= 0.92 and OxySatu <= 0.93:\n",
        "        PRIESTScore = PRIESTScore +  2\n",
        "\n",
        "    if heartRt > 130:\n",
        "        PRIESTScore = PRIESTScore +  3\n",
        "    elif heartRt >= 111 and heartRt <= 130:\n",
        "        PRIESTScore = PRIESTScore +  2\n",
        "    elif heartRt >= 91 and heartRt <= 110:\n",
        "        PRIESTScore = PRIESTScore +  1\n",
        "    elif heartRt < 41:\n",
        "        PRIESTScore = PRIESTScore +  3\n",
        "    elif heartRt >= 41 and heartRt <= 50:\n",
        "        PRIESTScore = PRIESTScore +  1\n",
        "\n",
        "    if systolicbp > 219:\n",
        "        PRIESTScore = PRIESTScore +  3\n",
        "    elif systolicbp >= 101 and systolicbp <= 110:\n",
        "        PRIESTScore = PRIESTScore +  1\n",
        "    elif systolicbp >= 91 and systolicbp <= 100:\n",
        "        PRIESTScore = PRIESTScore +  2\n",
        "    elif systolicbp < 91:\n",
        "        PRIESTScore = PRIESTScore +  3\n",
        "\n",
        "    if temper > 39.0:\n",
        "        PRIESTScore = PRIESTScore +  2\n",
        "    elif temper >= 38.1 and temper <= 39.0:\n",
        "        PRIESTScore = PRIESTScore +  1\n",
        "    if temper < 35.1:\n",
        "        PRIESTScore = PRIESTScore +  3\n",
        "    elif temper >= 35.1 and temper <= 36.0:\n",
        "        PRIESTScore = PRIESTScore +  1\n",
        "\n",
        "    if alertvalue.lower() == \"confused or not alert\":\n",
        "        PRIESTScore = PRIESTScore +  3\n",
        "\n",
        "    if performcSts.lower() == \"limited self-care\":\n",
        "        PRIESTScore = PRIESTScore +  3\n",
        "    elif performcSts.lower() == \"limited activity, can self-care\":\n",
        "        PRIESTScore = PRIESTScore +  2\n",
        "    if performcSts.lower() == \"limited strenuous activity, can do light activity\":\n",
        "        PRIESTScore = PRIESTScore +  1\n",
        "    elif performcSts.lower() == \"bed/chair bound, no self-care\":\n",
        "        PRIESTScore = PRIESTScore +  4\n",
        "\n",
        "    if inOxy == \"supplemental oxygen\":\n",
        "        PRIESTScore = PRIESTScore +  2\n",
        "\n",
        "    riskPer = [0.01, 0.01, 0.02, 0.02, 0.03, 0.09, 0.15, 0.18, 0.22, 0.26, 0.29, 0.34, 0.38, 0.46, 0.47, 0.49, 0.55, 0.59, 0.59, 0.59, 0.59, 0.59, 0.59, 0.59, 0.59, 0.59,0.99]\n",
        "    PRIESTScore = min(PRIESTScore, len(riskPer) - 1)\n",
        "    return riskPer[PRIESTScore]"
      ]
    },
    {
      "cell_type": "code",
      "execution_count": 51,
      "metadata": {
        "id": "prseNizZ_a6z",
        "outputId": "5dae8680-84ba-40c1-ff57-0d96f24f81a2",
        "colab": {
          "base_uri": "https://localhost:8080/"
        }
      },
      "outputs": [
        {
          "output_type": "stream",
          "name": "stdout",
          "text": [
            "Finding tests in NoName\n",
            "Trying:\n",
            "    priest(\"MALE\", 18,23,0.93,89,115,35.1,\"confused or not alert\",\"AIR\",\"limited activity, can self-care\")\n",
            "Expecting:\n",
            "    0.34\n",
            "ok\n",
            "Trying:\n",
            "    priest(\"FEMALE\",65,23,0.96,105,115,40.8,\"ALERT\",\"AIR\",\"limited activity, can self-care\")\n",
            "Expecting:\n",
            "    0.26\n",
            "ok\n",
            "Trying:\n",
            "    priest('male', 50, 20, 0.90, 87, 95, 35, 'alert', 'supplemental oxygen', 'bed/chair bound, no self-care')\n",
            "Expecting:\n",
            "    0.59\n",
            "ok\n"
          ]
        }
      ],
      "source": [
        "import doctest\n",
        "doctest.run_docstring_examples(priest, globals(),verbose=True)"
      ]
    },
    {
      "cell_type": "markdown",
      "metadata": {
        "id": "QDL6bNF5_a6z"
      },
      "source": [
        "## Part 2: Find a hospital\n",
        "\n",
        "The next thing we have to do is figure out where to send this particular patient.  The guidelines on where to send a patient are based on their age (pediatric, adult, geriatric), sex, and risk percentage.  Luckily, you don't have to implement these rules. I already have. All you have to do is use a REST web service that I've created for you.\n",
        "\n",
        "You'll want to use Python to make a call to my REST web service similar to the example URL below. The first part of the URL will be the same for everyone and every request that you make. What you will need to modify for each of your requests is the information after the question mark.\n",
        "\n",
        "```\n",
        "https://oumdj6oci2.execute-api.us-east-1.amazonaws.com/prd/?age=40&sex=male&risk_pct=0.1\n",
        "```\n",
        "\n",
        "The example above asks my web service where a 40-year old male with a risk of 10% should go.  What the web service will return back is a JSON string containing the information you need.  That JSON will look like this:\n",
        "\n",
        "```json\n",
        "{\n",
        "  \"age\": \"40\",\n",
        "  \"sex\": \"male\",\n",
        "  \"risk\": \"0.1\",\n",
        "  \"hospital\": \"Southwest Hospital and Medical Center\"\n",
        "}\n",
        "```\n",
        "\n",
        "My function is not smart enough to understand `'MALE'` is the same as `'male'`.  You have to send it exactly `'male'` or `'female'`\n",
        "\n",
        "1. Your job is to write a function called **find_hospital()** that takes age, sex, and risk as parameters.\n",
        "2. Your function should call this REST web service using the `requests` module\n",
        "3. Then your function will need to interpret the JSON it gets and return just the name of the hospital\n",
        "4. If anything fails, return None\n",
        "5. Include a good docstring with at least three test cases.\n"
      ]
    },
    {
      "cell_type": "code",
      "execution_count": 43,
      "metadata": {
        "id": "I-FyU-fY_a60"
      },
      "outputs": [],
      "source": [
        "import requests as req\n",
        "import json as js\n",
        "import csv as c\n",
        "\n",
        "\n",
        "def find_hospital(age, sex, riskPerc):\n",
        "    \"\"\"\n",
        "    (integer, String, float) -> String\n",
        "\n",
        "    Find_hospital function Use the age, sex and risk percentage for finding a hospital. It\n",
        "    expects age, risk percentage in float and sex in String and produces hospital name in String.\n",
        "\n",
        "     find_hospital function find hospital on API by passing age, sex and rper as query parameters to the url\n",
        "     using requests module\n",
        "\n",
        "\n",
        "    >>> find_hospital(18, \"female\", 0.15)\n",
        "    'Select Specialty Hospital - Northeast Atlanta'\n",
        "\n",
        "    >>> find_hospital(66, \"female\", 0.18)\n",
        "    'Wesley Woods Geriatric Hospital'\n",
        "\n",
        "    >>> find_hospital(85, \"Female\", 0.29)\n",
        "    'Wesley Woods Geriatric Hospital'\n",
        "\n",
        "    \"\"\"\n",
        "    sex = sex.lower()\n",
        "\n",
        "    urlll = \"https://oumdj6oci2.execute-api.us-east-1.amazonaws.com/prd/\"\n",
        "\n",
        "    data = req.get(urlll, params={\"age\": age, \"sex\": sex, \"risk_pct\": riskPerc})\n",
        "\n",
        "    return (data.json())['hospital']"
      ]
    },
    {
      "cell_type": "code",
      "execution_count": 44,
      "metadata": {
        "id": "gfN6hCZy_a60",
        "outputId": "b1356bb1-14ef-4ce1-8901-62f25d51c4bb",
        "colab": {
          "base_uri": "https://localhost:8080/"
        }
      },
      "outputs": [
        {
          "output_type": "stream",
          "name": "stdout",
          "text": [
            "Finding tests in NoName\n",
            "Trying:\n",
            "    find_hospital(18, \"female\", 0.15)\n",
            "Expecting:\n",
            "    'Select Specialty Hospital - Northeast Atlanta'\n",
            "ok\n",
            "Trying:\n",
            "    find_hospital(66, \"female\", 0.18)\n",
            "Expecting:\n",
            "    'Wesley Woods Geriatric Hospital'\n",
            "ok\n",
            "Trying:\n",
            "    find_hospital(85, \"Female\", 0.29)\n",
            "Expecting:\n",
            "    'Wesley Woods Geriatric Hospital'\n",
            "ok\n"
          ]
        }
      ],
      "source": [
        "import doctest\n",
        "doctest.run_docstring_examples(find_hospital, globals(),verbose=True)"
      ]
    },
    {
      "cell_type": "markdown",
      "metadata": {
        "id": "ZjlodvZB_a60"
      },
      "source": [
        "## Part 3: Get the address for that hospital from a JSON file\n",
        "\n",
        "Great! Now we have code to tell us which hospital to send someone to... but we don't know where that hospital is. The next function we need to create is one that looks up the address of that hospital.  All of these hospitals are in Atlanta, Georgia.  We're going to use the list from this webpage to lookup the address for that hospital, based on its name.  https://www.officialusa.com/stateguides/health/hospitals/georgia.html\n",
        "\n",
        "Because we skipped the section about Beautiful Soup and working with HTML, I've converted this information into a JSON document for you.  It's available for you here.  Your code should retrieve this file using the `requests` module.\n",
        "\n",
        "`https://drive.google.com/uc?export=download&id=1fIFD-NkcdiMu941N4GjyMDWxiKsFJBw-`\n",
        "\n",
        "1. You need to create a function called **get_address()** that takes hospital name as a parameter and searches the data from this JSON file for the hospital you want to find.\n",
        "2. Your code will have to load the JSON and return the correct hospital based on name.\n",
        "3. If the hospital name isn't found, the function should return None.\n",
        "4. Be sure to use good docstring documentation and includes at least 3 test cases."
      ]
    },
    {
      "cell_type": "code",
      "execution_count": 45,
      "metadata": {
        "id": "jKgdgbfv_a60"
      },
      "outputs": [],
      "source": [
        "import requests as req\n",
        "import json as js\n",
        "\n",
        "def get_address(hospName):\n",
        "    \"\"\"\n",
        "    (String) -> String\n",
        "\n",
        "    get_address function find the address of hospital based on hospital name from the url provided\n",
        "\n",
        "    get_address function expects hospital name as String and return address in String\n",
        "\n",
        "    get_address function find address by use API, where it has hospital name json data in it.\n",
        "\n",
        "    >>> get_address(\"Wesley Woods Geriatric Hospital\")\n",
        "    '1821 CLIFTON ROAD, NE'\n",
        "\n",
        "    >>> get_address(\"Select Specialty Hospital - Northeast Atlanta\")\n",
        "    '1821 CLIFTON ROAD NE'\n",
        "\n",
        "    >>> get_address(\"Southwest Hospital and Medical Center\")\n",
        "    '501 FAIRBURN ROAD SW'\n",
        "\n",
        "    \"\"\"\n",
        "\n",
        "    httpurll = \"https://hds5210-data.s3.amazonaws.com/ga_hospitals.json\"\n",
        "\n",
        "    re = req.get(httpurll)\n",
        "\n",
        "    hospName=hospName.upper()\n",
        "\n",
        "    if re.status_code==200:\n",
        "\n",
        "        ress = re.json()\n",
        "\n",
        "        if hospName in ress:\n",
        "\n",
        "            return ress[hospName][\"ADDRESS\"]\n",
        "        else:\n",
        "            return \" \"\n",
        "\n",
        "    else:\n",
        "        print(\"URL Not WORKING\")"
      ]
    },
    {
      "cell_type": "code",
      "source": [
        "import doctest\n",
        "doctest.run_docstring_examples(get_address, globals(),verbose=True)"
      ],
      "metadata": {
        "id": "JbZJxD2r_tCa",
        "outputId": "1576c24e-359e-4409-e8e1-4b4e4f9ecdfd",
        "colab": {
          "base_uri": "https://localhost:8080/"
        }
      },
      "execution_count": 46,
      "outputs": [
        {
          "output_type": "stream",
          "name": "stdout",
          "text": [
            "Finding tests in NoName\n",
            "Trying:\n",
            "    get_address(\"Wesley Woods Geriatric Hospital\")\n",
            "Expecting:\n",
            "    '1821 CLIFTON ROAD, NE'\n",
            "ok\n",
            "Trying:\n",
            "    get_address(\"Select Specialty Hospital - Northeast Atlanta\")\n",
            "Expecting:\n",
            "    '1821 CLIFTON ROAD NE'\n",
            "ok\n",
            "Trying:\n",
            "    get_address(\"Southwest Hospital and Medical Center\")\n",
            "Expecting:\n",
            "    '501 FAIRBURN ROAD SW'\n",
            "ok\n"
          ]
        }
      ]
    },
    {
      "cell_type": "markdown",
      "metadata": {
        "id": "JDR2ASE1_a60"
      },
      "source": [
        "## Part 4: Run the risk calculator on a population\n",
        "\n",
        "At the link below, there is a file called `people.psv`.  It is a pipe-delimited (`|`) file with columns that match the inputs for the PRIEST calculation above.  Your code should use the `requests` module to retrieve the file from this URL.\n",
        "\n",
        "`https://drive.google.com/uc?export=download&id=1fLxJN9YGUqmqExrilxSS8furwUER5HHh`\n",
        "\n",
        "\n",
        "In addition, the file has a patient identifier in the first column.\n",
        "\n",
        "1. Write a function called **process_people()** that takes the file location above as its only parameter. Your Python program should use your code above to process all of these rows, determine the hospital and address, and return a list whose items are a dictionary like this: `{ patient_number: [sex, age, breath, o2sat, heart, systolic, temp, alertness, inspired, status, hospital, address]}`.  Look at the file in Part 5 for what the output looks like.\n",
        "2. Be sure to use good docstrings, but you don't need any tests in your doc strings.  I've provided those for you withe file in Part 5.\n",
        "\n",
        "\n",
        "**NOTE** that when running your code for all the 100 records in the `people.psv` file, it may take a few minutes to complete.  You're making multiple calls to the internet for each record, so that can take a little while.\n"
      ]
    },
    {
      "cell_type": "code",
      "execution_count": 47,
      "metadata": {
        "id": "ao30s1v-_a60"
      },
      "outputs": [],
      "source": [
        "import csv\n",
        "def process_people(fileURL):\n",
        "    \"\"\"\n",
        "    (string) -> dictionary\n",
        "\n",
        "    This process_people method will produce all patient data,\n",
        "    including risk, hospital, and hospital address, in a dictionary.\n",
        "\n",
        "    process_people accepts input parameter as url which is string and generate dictionary\n",
        "    with patient info as output\n",
        "    \"\"\"\n",
        "    try:\n",
        "        finalDataa = {}\n",
        "        res = req.get(fileURL)\n",
        "        if res.status_code == 200:\n",
        "            data = res.text.split(\"\\n\")\n",
        "            dataa = csv.reader(data, delimiter='|')\n",
        "            next(dataa)\n",
        "            for row in dataa:\n",
        "                if all(field == '' for field in row):\n",
        "                    break\n",
        "\n",
        "                patient, sex, age, respiratRt, OxySatu, heartRt, systolicbp, temper, alertvalue, inOxy, performcSts = row\n",
        "\n",
        "                risk = priest(sex, float(age), float(respiratRt), float(OxySatu), float(heartRt), float(systolicbp), float(temper), alertvalue, inOxy, performcSts)\n",
        "\n",
        "                hosName = find_hospital(int(age), sex, risk)\n",
        "\n",
        "                addss = get_address(hosName)\n",
        "\n",
        "                lisst = [sex, float(age), float(respiratRt), float(OxySatu), float(heartRt), float(systolicbp), float(temper), alertvalue, inOxy, performcSts, risk, hosName, addss]\n",
        "\n",
        "                finalDataa[patient] = lisst\n",
        "#         print(json_data)\n",
        "\n",
        "\n",
        "            return finalDataa\n",
        "\n",
        "        else:\n",
        "            return \" \"\n",
        "    except Exception as err:\n",
        "        print(\"ERROR OCCURED WHILE ACCESSING LINK\")\n",
        "        return \" \""
      ]
    },
    {
      "cell_type": "markdown",
      "metadata": {
        "id": "70o_OFuw_a61"
      },
      "source": [
        "## Part 5: Checking your final results\n",
        "\n",
        "The final step is to check your results.  You should be able to compare your results to the output in `people_results.json` at the link below.  Write some code to check your results.  This does not need to be a function.\n",
        "\n",
        "`https://drive.google.com/uc?export=download&id=1gx1SSC20mO5XL6uYD0mdcM_cL91fcIW5`\n"
      ]
    },
    {
      "cell_type": "code",
      "execution_count": 52,
      "metadata": {
        "id": "mUGSO4Ay_a61",
        "outputId": "9ad2d489-fcfc-413b-fb11-bc7c56815da9",
        "colab": {
          "base_uri": "https://localhost:8080/"
        }
      },
      "outputs": [
        {
          "output_type": "stream",
          "name": "stdout",
          "text": [
            "Error in The Link\n"
          ]
        }
      ],
      "source": [
        "import requests as req\n",
        "import json as js\n",
        "\n",
        "\"\"\"\n",
        "It compares the json data from the link with the calculated data using above functions\n",
        "\n",
        "It returns \"Data is equal\" when they are equal and not equal if they are not\n",
        "\"\"\"\n",
        "\n",
        "url = \"https://hds5210-data.s3.amazonaws.com/people_results.json\"\n",
        "headers = {'Accept' : 'application/json'}\n",
        "\n",
        "try:\n",
        "    exp= req.get(url, headers=headers)\n",
        "    if exp.status_code == 200:\n",
        "        first = exp.json()\n",
        "        second = process_people(\"https://hds5210-data.s3.amazonaws.com/people.psv\")\n",
        "#     print(\"9999\",second)\n",
        "\n",
        "        firstString1 = json.dumps(first)\n",
        "        secondString1 = json.dumps(second)\n",
        "\n",
        "        firstString2 = json.loads(firstString1)\n",
        "        secondString2 = json.loads(secondString1)\n",
        "\n",
        "    if firstString2 == secondString2:\n",
        "        print(\"Data is equal\")\n",
        "    else:\n",
        "        print(\"Data is Not equal\")\n",
        "\n",
        "\n",
        "except Exception as err:\n",
        "  print(\"Error in The Link\")"
      ]
    },
    {
      "cell_type": "markdown",
      "metadata": {
        "id": "EHvDdj3t_a61"
      },
      "source": [
        "---\n",
        "\n",
        "## Check your work above\n",
        "\n",
        "If you didn't get them all correct, take a few minutes to think through those that aren't correct.\n",
        "\n",
        "\n",
        "## Submitting Your Work\n",
        "\n",
        "Submit your work as usual into a folder named `midterm`"
      ]
    },
    {
      "cell_type": "markdown",
      "metadata": {
        "id": "3TrcLdIV_a61"
      },
      "source": [
        "---"
      ]
    }
  ],
  "metadata": {
    "kernelspec": {
      "display_name": "Python 3",
      "language": "python",
      "name": "python3"
    },
    "language_info": {
      "codemirror_mode": {
        "name": "ipython",
        "version": 3
      },
      "file_extension": ".py",
      "mimetype": "text/x-python",
      "name": "python",
      "nbconvert_exporter": "python",
      "pygments_lexer": "ipython3",
      "version": "3.9.16"
    },
    "colab": {
      "provenance": []
    }
  },
  "nbformat": 4,
  "nbformat_minor": 0
}