{
  "cells": [
    {
      "cell_type": "markdown",
      "metadata": {
        "id": "fqVz7CmWOhNP"
      },
      "source": [
        "# Week 7 Assignment\n",
        "\n",
        "We've been working with different types of data structures in Python (dictionary, list, etc), how those are represented in JSON documents, and how to write code to access specific data elements. In this week's assignment, you will need to create your own JSON document to store information about yourself and the grades you've received from week 1 to week 4 and the week 6 quiz.  That is, everything you should have received a grade for.  Then you'll need to show me you know how to navigate the JSON in that file.\n",
        "\n",
        "Different from what we've done in the past, you do not have to write any functions or include any docstrings.  Just create some JSON and write some code.\n",
        "\n",
        "---"
      ]
    },
    {
      "cell_type": "markdown",
      "metadata": {
        "id": "Kd9ibvvQOhNR"
      },
      "source": [
        "## 7.1 Create a JSON string\n",
        "\n",
        "Create a JSON string that contains your name, email, year you were born, all of the grades you've received back so far, and a comment about what you thought was most challenging on each of those assignments.  This can be any structure you choose, but make sure it uses a dictionary and a list, and has at least two levels of hierarchy.  That is, it can't just be one big long list."
      ]
    },
    {
      "cell_type": "markdown",
      "metadata": {
        "id": "JC9ZaX7iOhNR"
      },
      "source": [
        "First, explain how your data structure is going to look..."
      ]
    },
    {
      "cell_type": "markdown",
      "metadata": {
        "id": "wt6KXj2QOhNR"
      },
      "source": [
        "I'm going to create JSON structure on my personal information and grades on my HDS5201.Create a dictionary \"hds5210\" with key value pairs \"name\",\"birth\"and\"year_of_birth\".Follwed by List of \"assignments\" with five key value pairs\"assignment\",\"grades\"and \"most_challenging\" which represents the challenge face during the assignment.\n",
        "\n"
      ]
    },
    {
      "cell_type": "markdown",
      "metadata": {
        "id": "QTlgab_8OhNR"
      },
      "source": [
        "Then put the actual JSON you've created inside the multiline string below..."
      ]
    },
    {
      "cell_type": "code",
      "execution_count": 35,
      "metadata": {
        "id": "Cc_bPKCcOhNS"
      },
      "outputs": [],
      "source": [
        "hds5210 = \"\"\"\n",
        "{\n",
        "    \"my_personal_info\": {\n",
        "        \"name\": \"Varun Ravichandran\",\n",
        "        \"my_email\": \"vravichandran1@slu.edu\",\n",
        "        \"year_of_birth\": 1997\n",
        "    },\n",
        "    \"assignment\": [\n",
        "        {\n",
        "            \"assignment\": \"week01\",\n",
        "            \"grade\": 10,\n",
        "            \"most_challenging\": \"I didn't face any issue in week01 assignment.\"\n",
        "        },\n",
        "        {\n",
        "            \"assignment\": \"week02\",\n",
        "            \"grade\": 10,\n",
        "            \"most_challenging\": \"I have faced some issues with clauses in week02 assignment.\"\n",
        "        },\n",
        "        {\n",
        "            \"assignment\": \"week03\",\n",
        "            \"grade\": 10,\n",
        "            \"most_challenging\": \"I took some time to debug the code in week03 assignment.\"\n",
        "        },\n",
        "        {\n",
        "            \"assignment\": \"week04\",\n",
        "            \"grade\": 10,\n",
        "            \"most_challenging\": \"I took some time to debug the code in week04 assignment.\"\n",
        "        },\n",
        "        {\n",
        "            \"assignment\": \"week06_quiz\",\n",
        "            \"grade\": 5,\n",
        "            \"most_challenging\": \"The most challenging aspect of the assignment is time management.\"\n",
        "        }\n",
        "    ]\n",
        "}\n",
        "\"\"\""
      ]
    },
    {
      "cell_type": "markdown",
      "metadata": {
        "id": "OL7C1nW8OhNS"
      },
      "source": [
        "## 7.2 Do something with your JSON\n",
        "\n",
        "Now use Python code to do something with the Json above.  Turn it into English text, but make sure that you use at least one loop to access some dict or list content of your JSON.  Below, I've provided some basic code to read in the string above as JSON and return a Python object.  Your job is to work with that data structure and print out the important information like your name, email, and how you did on each assignment."
      ]
    },
    {
      "cell_type": "code",
      "execution_count": 36,
      "metadata": {
        "id": "L-K00K-JOhNS",
        "outputId": "0510e481-8026-437f-a882-f015f6eb29d8",
        "colab": {
          "base_uri": "https://localhost:8080/"
        }
      },
      "outputs": [
        {
          "output_type": "stream",
          "name": "stdout",
          "text": [
            "Hello, my name is Varun Ravichandran and my email address is vravichandran1@slu.edu.I was born in 1997.\n",
            "For the week01 assignment,I received a grade of 10\n",
            "The most challenging part was:I didn't face any issue in week01 assignment.\n",
            "For the week02 assignment,I received a grade of 10\n",
            "The most challenging part was:I have faced some issues with clauses in week02 assignment.\n",
            "For the week03 assignment,I received a grade of 10\n",
            "The most challenging part was:I took some time to debug the code in week03 assignment.\n",
            "For the week04 assignment,I received a grade of 10\n",
            "The most challenging part was:I took some time to debug the code in week04 assignment.\n",
            "For the week06_quiz assignment,I received a grade of 5\n",
            "The most challenging part was:The most challenging aspect of the assignment is time management.\n"
          ]
        }
      ],
      "source": [
        "import json\n",
        "\n",
        "info = json.loads(hds5210)\n",
        "name=info[\"my_personal_info\"][\"name\"]\n",
        "my_email=info[\"my_personal_info\"][\"my_email\"]\n",
        "year_of_birth=info[\"my_personal_info\"][\"year_of_birth\"]\n",
        "assignments=info[\"assignment\"]\n",
        "\n",
        "print(f\"Hello, my name is {name} and my email address is {my_email}.I was born in {year_of_birth}.\")\n",
        "for assignment in assignments:\n",
        "  print(f\"For the {assignment['assignment']} assignment,I received a grade of {assignment['grade']}\")\n",
        "  print(f\"The most challenging part was:{assignment['most_challenging']}\")\n"
      ]
    },
    {
      "cell_type": "markdown",
      "metadata": {
        "id": "JI0AMD_oOhNS"
      },
      "source": [
        "## 7.3 Reflect\n",
        "\n",
        "Write a paragraph on any reflections you have. Was this hard? Easy?  What parts were most challenging or easiest? What did you like or dislike about the assignment?  Share whatever important thoughts you have abou this assignment."
      ]
    },
    {
      "cell_type": "markdown",
      "metadata": {
        "id": "JKAr-JqdOhNS"
      },
      "source": [
        "The example provided by the professor was extremely helpful in constructing my JSON structure. I followed a similar approach, starting by importing the 'json' module and using 'json.loads' to load the data in the 'hds5210' string, which contains information about both my personal details and assignments. I used the same concept as the professor's example, making the code straightforward. After loading the data, I utilized print statements to extract my personal information and assignment details. I employed a for loop to iterate through the assignments, displaying each assignment's name, grade, and the most challenging aspect. Upon running the code, I initially encountered an error related to the formatting of the year of birth. Thanks to the guidance from the LLM model, I realized that JSON expects numeric values without a trailing period, and I promptly corrected it. The most challenging part of this assignment was initially typing the JSON string accurately. I appreciated the process of creating the JSON structure, although I disliked encountering issues when the JSON data wasn't correctly loaded into the code. Overall, I believe this experience will be beneficial in the future when working with JSON structures."
      ]
    },
    {
      "cell_type": "markdown",
      "metadata": {
        "id": "SboXl0HSOhNT"
      },
      "source": [
        "---\n",
        "\n",
        "# Example\n",
        "\n",
        "Below is an example of something similar, but this uses information my and my friend's kids instead of grades."
      ]
    },
    {
      "cell_type": "code",
      "execution_count": 37,
      "metadata": {
        "id": "PYCU3Zz6OhNT",
        "outputId": "5c91ccf9-7275-45b7-a8f8-17a34c0f610b",
        "colab": {
          "base_uri": "https://localhost:8080/"
        }
      },
      "outputs": [
        {
          "output_type": "stream",
          "name": "stdout",
          "text": [
            "Hi, my name is Paul. I've got 3 kids. Their names are Ellie, Ada, Teddy.\n",
            "My friend, Anny has 1 kids. That's fewer than me. Their names are 1\n"
          ]
        }
      ],
      "source": [
        "hds5210 = \"\"\"\n",
        "{\n",
        "    \"me\": {\n",
        "        \"name\": \"Paul\",\n",
        "        \"kids\": [\"Ellie\", \"Ada\", \"Teddy\"]\n",
        "    },\n",
        "    \"friend\": {\n",
        "        \"name\": \"Anny\",\n",
        "        \"kids\": [\"Abby\"]\n",
        "    }\n",
        "}\n",
        "\"\"\"\n",
        "\n",
        "import json\n",
        "\n",
        "info = json.loads(hds5210)\n",
        "\n",
        "me = info[\"me\"][\"name\"]\n",
        "my_kids_count = len(info[\"me\"][\"kids\"])\n",
        "kids_list = \", \".join(info[\"me\"][\"kids\"])\n",
        "friend = info[\"friend\"][\"name\"]\n",
        "friends_kid_count = len(info[\"friend\"][\"kids\"])\n",
        "friend_kids = \", \".join(info[\"friend\"][\"kids\"])\n",
        "compare = \"more\" if friends_kid_count > my_kids_count else \"fewer\"\n",
        "\n",
        "print(f\"Hi, my name is {me}. I've got {my_kids_count} kids. Their names are {kids_list}.\")\n",
        "print(f\"My friend, {friend} has {friends_kid_count} kids. That's {compare} than me. Their names are {friends_kid_count}\")"
      ]
    }
  ],
  "metadata": {
    "kernelspec": {
      "display_name": "Python 3",
      "language": "python",
      "name": "python3"
    },
    "language_info": {
      "codemirror_mode": {
        "name": "ipython",
        "version": 3
      },
      "file_extension": ".py",
      "mimetype": "text/x-python",
      "name": "python",
      "nbconvert_exporter": "python",
      "pygments_lexer": "ipython3",
      "version": "3.9.16"
    },
    "colab": {
      "provenance": []
    }
  },
  "nbformat": 4,
  "nbformat_minor": 0
}